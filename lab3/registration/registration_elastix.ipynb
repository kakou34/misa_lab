{
 "cells": [
  {
   "cell_type": "code",
   "execution_count": 26,
   "id": "c9944d91",
   "metadata": {
    "id": "c9944d91"
   },
   "outputs": [],
   "source": [
    "import numpy as np\n",
    "import matplotlib.pyplot as plt\n",
    "import pandas as pd\n",
    "import seaborn as sns\n",
    "import SimpleITK as sitk\n",
    "from tqdm import tqdm\n",
    "from pathlib import Path\n",
    "\n",
    "\n",
    "import utils\n",
    "import shutil"
   ]
  },
  {
   "cell_type": "code",
   "execution_count": 27,
   "id": "3ad597c9-eb97-450e-8f8b-ebb9058e162b",
   "metadata": {},
   "outputs": [
    {
     "name": "stdout",
     "output_type": "stream",
     "text": [
      "The autoreload extension is already loaded. To reload it, use:\n",
      "  %reload_ext autoreload\n"
     ]
    }
   ],
   "source": [
    "%load_ext autoreload\n",
    "%autoreload 2"
   ]
  },
  {
   "cell_type": "markdown",
   "id": "1d09142b",
   "metadata": {
    "id": "1d09142b"
   },
   "source": [
    "# Register atlases to all test images"
   ]
  },
  {
   "cell_type": "code",
   "execution_count": 28,
   "id": "b3a4af8f",
   "metadata": {
    "id": "b3a4af8f"
   },
   "outputs": [],
   "source": [
    "# Define all necessary paths\n",
    "base_path = Path('../').resolve().parent\n",
    "test_set_path = base_path / 'data' / 'test-set'\n",
    "params_path =  base_path / 'elastix' / 'parameter_maps'\n",
    "test_imgs_dir =   test_set_path / 'testing-images'\n",
    "test_labels_dir = test_set_path / 'testing-labels'\n",
    "test_masks_dir =  test_set_path / 'testing-mask'\n",
    "output_path =     test_set_path\n",
    "\n",
    "our_atlas_path = base_path / 'data' / 'atlases' / 'Parameters.Par0009.affine'\n",
    "mni_atlas_path = base_path / 'data' / 'MNITemplateAtlas'\n",
    "\n",
    "# Define parameter maps to use\n",
    "param_file_path =  base_path / 'elastix' / 'parameter_maps' / 'Par0010affine.txt'"
   ]
  },
  {
   "cell_type": "code",
   "execution_count": 29,
   "id": "300d0395-fd0c-4e92-a801-cd1650fa4cd6",
   "metadata": {},
   "outputs": [],
   "source": [
    "# Separating Labels for MNI atlas\n",
    "mni_atlas_template = sitk.ReadImage(str(mni_atlas_path / 'template.nii.gz'))\n",
    "mni_atlas_labels = sitk.ReadImage(str(mni_atlas_path / 'atlas.nii.gz')) # probability maps image \n",
    "mni_atlas_labels_array = sitk.GetArrayFromImage(mni_atlas_labels) # probability maps array\n",
    "\n",
    "atlas_background = mni_atlas_labels_array[0, :, :, :]\n",
    "atlas_csf = mni_atlas_labels_array[1, :, :, :]\n",
    "atlas_gm = mni_atlas_labels_array[2, :, :, :]\n",
    "atlas_wm = mni_atlas_labels_array[3, :, :, :]\n",
    " \n",
    "utils.save_segementations(atlas_background, mni_atlas_template , str(mni_atlas_path/'p_atlas_background.nii.gz'))\n",
    "utils.save_segementations(atlas_csf, mni_atlas_template , str(mni_atlas_path/'p_atlas_csf.nii.gz'))\n",
    "utils.save_segementations(atlas_gm, mni_atlas_template , str(mni_atlas_path/'p_atlas_gm.nii.gz'))\n",
    "utils.save_segementations(atlas_wm, mni_atlas_template , str(mni_atlas_path/'p_atlas_wm.nii.gz'))"
   ]
  },
  {
   "cell_type": "code",
   "execution_count": 33,
   "id": "0832a90f-7321-487b-920a-eb5d79cab3d5",
   "metadata": {},
   "outputs": [
    {
     "name": "stdout",
     "output_type": "stream",
     "text": [
      "C:\\Users\\kaout\\OneDrive\\Documents\\GitHub\\joaco\\misa_lab\\data\\test-set\\testing-images\\1003.nii.gz\n",
      "C:\\Users\\kaout\\OneDrive\\Documents\\GitHub\\joaco\\misa_lab\\data\\test-set\\testing-images\\1004.nii.gz\n",
      "C:\\Users\\kaout\\OneDrive\\Documents\\GitHub\\joaco\\misa_lab\\data\\test-set\\testing-images\\1005.nii.gz\n",
      "C:\\Users\\kaout\\OneDrive\\Documents\\GitHub\\joaco\\misa_lab\\data\\test-set\\testing-images\\1018.nii.gz\n",
      "C:\\Users\\kaout\\OneDrive\\Documents\\GitHub\\joaco\\misa_lab\\data\\test-set\\testing-images\\1019.nii.gz\n",
      "C:\\Users\\kaout\\OneDrive\\Documents\\GitHub\\joaco\\misa_lab\\data\\test-set\\testing-images\\1023.nii.gz\n",
      "C:\\Users\\kaout\\OneDrive\\Documents\\GitHub\\joaco\\misa_lab\\data\\test-set\\testing-images\\1024.nii.gz\n",
      "C:\\Users\\kaout\\OneDrive\\Documents\\GitHub\\joaco\\misa_lab\\data\\test-set\\testing-images\\1025.nii.gz\n",
      "C:\\Users\\kaout\\OneDrive\\Documents\\GitHub\\joaco\\misa_lab\\data\\test-set\\testing-images\\1038.nii.gz\n",
      "C:\\Users\\kaout\\OneDrive\\Documents\\GitHub\\joaco\\misa_lab\\data\\test-set\\testing-images\\1039.nii.gz\n",
      "C:\\Users\\kaout\\OneDrive\\Documents\\GitHub\\joaco\\misa_lab\\data\\test-set\\testing-images\\1101.nii.gz\n",
      "C:\\Users\\kaout\\OneDrive\\Documents\\GitHub\\joaco\\misa_lab\\data\\test-set\\testing-images\\1104.nii.gz\n",
      "C:\\Users\\kaout\\OneDrive\\Documents\\GitHub\\joaco\\misa_lab\\data\\test-set\\testing-images\\1107.nii.gz\n",
      "C:\\Users\\kaout\\OneDrive\\Documents\\GitHub\\joaco\\misa_lab\\data\\test-set\\testing-images\\1110.nii.gz\n",
      "C:\\Users\\kaout\\OneDrive\\Documents\\GitHub\\joaco\\misa_lab\\data\\test-set\\testing-images\\1113.nii.gz\n",
      "C:\\Users\\kaout\\OneDrive\\Documents\\GitHub\\joaco\\misa_lab\\data\\test-set\\testing-images\\1116.nii.gz\n",
      "C:\\Users\\kaout\\OneDrive\\Documents\\GitHub\\joaco\\misa_lab\\data\\test-set\\testing-images\\1119.nii.gz\n",
      "C:\\Users\\kaout\\OneDrive\\Documents\\GitHub\\joaco\\misa_lab\\data\\test-set\\testing-images\\1122.nii.gz\n",
      "C:\\Users\\kaout\\OneDrive\\Documents\\GitHub\\joaco\\misa_lab\\data\\test-set\\testing-images\\1125.nii.gz\n",
      "C:\\Users\\kaout\\OneDrive\\Documents\\GitHub\\joaco\\misa_lab\\data\\test-set\\testing-images\\1128.nii.gz\n"
     ]
    }
   ],
   "source": [
    "# Registration of the atlases to each test image\n",
    "\n",
    "# Atlas paths\n",
    "our_atlas_template_path = our_atlas_path / 'mean_volume.nii.gz'\n",
    "mni_atlas_template_path = mni_atlas_path / 'template.nii.gz'\n",
    "\n",
    "atlas_path = {'our_atlas': our_atlas_path, 'mni_atlas': mni_atlas_path}\n",
    "atlas_template_path = {'our_atlas': our_atlas_template_path, 'mni_atlas': mni_atlas_template_path}\n",
    "atlas_map_names = ['p_atlas_background', 'p_atlas_csf', 'p_atlas_gm', 'p_atlas_wm']\n",
    "\n",
    "# Read and modify parameters file\n",
    "field_value_pairs = [('ResultImageFormat', 'nii.gz'), ('WriteResultImage', 'true')]\n",
    "utils.modify_field_parameter_map(field_value_pairs, param_file_path)\n",
    "\n",
    "\n",
    "for j, fixed_img_path in enumerate(test_imgs_dir.iterdir()):\n",
    "    \n",
    "    print(fixed_img_path)\n",
    "    fix_name = fixed_img_path.name.rstrip('.nii.gz')\n",
    "    \n",
    "    mask_path = test_masks_dir / f'{fix_name}_1C.nii.gz'\n",
    "    \n",
    "    # For each atlas \n",
    "    for atlas_name in ['our_atlas', 'mni_atlas']:\n",
    "        result_path = output_path / atlas_name / fix_name\n",
    "        result_path.mkdir(exist_ok=True, parents=True)\n",
    "\n",
    "        res_img_path = result_path / f'{atlas_name}_template.nii.gz'\n",
    "        res_mask_path = result_path / f'{atlas_name}_1C.nii.gz'\n",
    "\n",
    "        # Register\n",
    "        transform_map_path = utils.elastix_wrapper(fixed_img_path, atlas_template_path[atlas_name], res_img_path, param_file_path)\n",
    "\n",
    "        # Correct transformation parameters file\n",
    "        field_value_pairs = [('ResultImageFormat', 'nii.gz'), ('ResultImagePixelType', \"float\"), ('FinalBSplineInterpolationOrder', '2.0')]\n",
    "        utils.modify_field_parameter_map(field_value_pairs, transform_map_path)\n",
    "        \n",
    "        # Transform brain_mask\n",
    "        utils.transformix_wrapper(mask_path, res_mask_path, transform_map_path)  \n",
    "    \n",
    "        for label_name in atlas_map_names:\n",
    "            res_lab_path = result_path / f'{atlas_name}_{label_name}.nii.gz'\n",
    "            lab_path = str(atlas_path[atlas_name] / label_name)\n",
    "            \n",
    "            # Transform labels\n",
    "            utils.transformix_wrapper(lab_path, res_lab_path, transform_map_path)"
   ]
  }
 ],
 "metadata": {
  "colab": {
   "provenance": [],
   "toc_visible": true
  },
  "kernelspec": {
   "display_name": "Python 3 (ipykernel)",
   "language": "python",
   "name": "python3"
  },
  "language_info": {
   "codemirror_mode": {
    "name": "ipython",
    "version": 3
   },
   "file_extension": ".py",
   "mimetype": "text/x-python",
   "name": "python",
   "nbconvert_exporter": "python",
   "pygments_lexer": "ipython3",
   "version": "3.9.12"
  },
  "vscode": {
   "interpreter": {
    "hash": "7113362d7bd43382b67f366a4c99867010345ad6310f4c3e6871fdbffb36624a"
   }
  }
 },
 "nbformat": 4,
 "nbformat_minor": 5
}
